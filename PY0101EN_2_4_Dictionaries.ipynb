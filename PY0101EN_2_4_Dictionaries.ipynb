{
  "nbformat": 4,
  "nbformat_minor": 0,
  "metadata": {
    "kernelspec": {
      "display_name": "Python 3",
      "language": "python",
      "name": "python3"
    },
    "language_info": {
      "codemirror_mode": {
        "name": "ipython",
        "version": 3
      },
      "file_extension": ".py",
      "mimetype": "text/x-python",
      "name": "python",
      "nbconvert_exporter": "python",
      "pygments_lexer": "ipython3",
      "version": "3.7.6"
    },
    "colab": {
      "name": "PY0101EN-2-4-Dictionaries.ipynb",
      "provenance": [],
      "include_colab_link": true
    }
  },
  "cells": [
    {
      "cell_type": "markdown",
      "metadata": {
        "id": "view-in-github",
        "colab_type": "text"
      },
      "source": [
        "<a href=\"https://colab.research.google.com/github/Fayaz-shaik/tempo/blob/main/PY0101EN_2_4_Dictionaries.ipynb\" target=\"_parent\"><img src=\"https://colab.research.google.com/assets/colab-badge.svg\" alt=\"Open In Colab\"/></a>"
      ]
    },
    {
      "cell_type": "markdown",
      "metadata": {
        "id": "Y7VgqltybHRJ"
      },
      "source": [
        "<center>\n",
        "    <img src=\"https://cf-courses-data.s3.us.cloud-object-storage.appdomain.cloud/IBMDeveloperSkillsNetwork-PY0101EN-SkillsNetwork/IDSNlogo.png\" width=\"300\" alt=\"cognitiveclass.ai logo\"  />\n",
        "</center>\n",
        "\n",
        "# Dictionaries in Python\n",
        "\n",
        "Estimated time needed: **20** minutes\n",
        "\n",
        "## Objectives\n",
        "\n",
        "After completing this lab you will be able to:\n",
        "\n",
        "-   Work with libraries in Python, including operations\n"
      ]
    },
    {
      "cell_type": "markdown",
      "metadata": {
        "id": "HpMQhcEqbHRT"
      },
      "source": [
        "<h2>Table of Contents</h2>\n",
        "<div class=\"alert alert-block alert-info\" style=\"margin-top: 20px\">\n",
        "    <ul>\n",
        "        <li>\n",
        "            <a href=\"#dic\">Dictionaries</a>\n",
        "            <ul>\n",
        "                <li><a href=\"content\">What are Dictionaries?</a></li>\n",
        "                <li><a href=\"key\">Keys</a></li>\n",
        "            </ul>\n",
        "        </li>\n",
        "        <li>\n",
        "            <a href=\"#quiz\">Quiz on Dictionaries</a>\n",
        "        </li>\n",
        "    </ul>\n",
        "\n",
        "</div>\n",
        "\n",
        "<hr>\n"
      ]
    },
    {
      "cell_type": "markdown",
      "metadata": {
        "id": "63ThmweKbHRU"
      },
      "source": [
        "<h2 id=\"Dic\">Dictionaries</h2>\n"
      ]
    },
    {
      "cell_type": "markdown",
      "metadata": {
        "id": "o8edNdQCbHRV"
      },
      "source": [
        "<h3 id=\"content\">What are Dictionaries?</h3>\n"
      ]
    },
    {
      "cell_type": "markdown",
      "metadata": {
        "id": "-OCwMY64bHRW"
      },
      "source": [
        "A dictionary consists of keys and values. It is helpful to compare a dictionary to a list. Instead of the numerical indexes such as a list, dictionaries have keys. These keys are the keys that are used to access values within a dictionary.\n"
      ]
    },
    {
      "cell_type": "markdown",
      "metadata": {
        "id": "oPasyUGgbHRW"
      },
      "source": [
        "<img src=\"https://cf-courses-data.s3.us.cloud-object-storage.appdomain.cloud/IBMDeveloperSkillsNetwork-PY0101EN-SkillsNetwork/labs/Module%202/images/DictsList.png\" width=\"650\" />\n"
      ]
    },
    {
      "cell_type": "markdown",
      "metadata": {
        "id": "PG8RUw9bbHRX"
      },
      "source": [
        "An example of a Dictionary <code>Dict</code>:\n"
      ]
    },
    {
      "cell_type": "code",
      "metadata": {
        "jupyter": {
          "outputs_hidden": false
        },
        "colab": {
          "base_uri": "https://localhost:8080/"
        },
        "id": "SJayOvh3bHRX",
        "outputId": "c39e4956-4916-4937-9a7c-ef794db4dd18"
      },
      "source": [
        "# Create the dictionary\n",
        "\n",
        "Dict = {\"key1\": 1, \"key2\": \"2\", \"key3\": [3, 3, 3], \"key4\": (4, 4, 4), ('key5'): 5, (0, 1): 6}\n",
        "Dict"
      ],
      "execution_count": 2,
      "outputs": [
        {
          "output_type": "execute_result",
          "data": {
            "text/plain": [
              "{(0, 1): 6,\n",
              " 'key1': 1,\n",
              " 'key2': '2',\n",
              " 'key3': [3, 3, 3],\n",
              " 'key4': (4, 4, 4),\n",
              " 'key5': 5}"
            ]
          },
          "metadata": {
            "tags": []
          },
          "execution_count": 2
        }
      ]
    },
    {
      "cell_type": "markdown",
      "metadata": {
        "id": "nAB97r_DbHRa"
      },
      "source": [
        "The keys can be strings:\n"
      ]
    },
    {
      "cell_type": "code",
      "metadata": {
        "jupyter": {
          "outputs_hidden": false
        },
        "colab": {
          "base_uri": "https://localhost:8080/",
          "height": 53
        },
        "id": "2gI2iH1gbHRb",
        "outputId": "c304d1be-3514-4870-ef33-462ab870cfd7"
      },
      "source": [
        "# Access to the value by the key\n",
        "\n",
        "print(Dict[\"key1\"])\n",
        "Dict[\"key2\"]"
      ],
      "execution_count": 5,
      "outputs": [
        {
          "output_type": "stream",
          "text": [
            "1\n"
          ],
          "name": "stdout"
        },
        {
          "output_type": "execute_result",
          "data": {
            "application/vnd.google.colaboratory.intrinsic+json": {
              "type": "string"
            },
            "text/plain": [
              "'2'"
            ]
          },
          "metadata": {
            "tags": []
          },
          "execution_count": 5
        }
      ]
    },
    {
      "cell_type": "markdown",
      "metadata": {
        "id": "MT62ZS_qbHRc"
      },
      "source": [
        "Keys can also be any immutable object such as a tuple: \n"
      ]
    },
    {
      "cell_type": "code",
      "metadata": {
        "jupyter": {
          "outputs_hidden": false
        },
        "colab": {
          "base_uri": "https://localhost:8080/"
        },
        "id": "fDeSN_VobHRd",
        "outputId": "2530509b-35e3-405d-8a51-aeaae474fd8a"
      },
      "source": [
        "# Access to the value by the key\n",
        "\n",
        "Dict[(0, 1)]"
      ],
      "execution_count": 6,
      "outputs": [
        {
          "output_type": "execute_result",
          "data": {
            "text/plain": [
              "6"
            ]
          },
          "metadata": {
            "tags": []
          },
          "execution_count": 6
        }
      ]
    },
    {
      "cell_type": "markdown",
      "metadata": {
        "id": "_Zy6RI11bHRe"
      },
      "source": [
        " Each key is separated from its value by a colon \"<code>:</code>\".  Commas separate the items, and the whole dictionary is enclosed in curly braces. An empty dictionary without any items is written with just two curly braces, like this  \"<code>{}</code>\".\n"
      ]
    },
    {
      "cell_type": "code",
      "metadata": {
        "jupyter": {
          "outputs_hidden": false
        },
        "colab": {
          "base_uri": "https://localhost:8080/"
        },
        "id": "FQpxkn9ybHRe",
        "outputId": "e2e82652-9874-4b03-f0e7-ea8df0229771"
      },
      "source": [
        "# Create a sample dictionary\n",
        "\n",
        "release_year_dict = {\"Thriller\": \"1982\", \"Back in Black\": \"1980\", \\\n",
        "                    \"The Dark Side of the Moon\": \"1973\", \"The Bodyguard\": \"1992\", \\\n",
        "                    \"Bat Out of Hell\": \"1977\", \"Their Greatest Hits (1971-1975)\": \"1976\", \\\n",
        "                    \"Saturday Night Fever\": \"1977\", \"Rumours\": \"1977\"}\n",
        "release_year_dict"
      ],
      "execution_count": 7,
      "outputs": [
        {
          "output_type": "execute_result",
          "data": {
            "text/plain": [
              "{'Back in Black': '1980',\n",
              " 'Bat Out of Hell': '1977',\n",
              " 'Rumours': '1977',\n",
              " 'Saturday Night Fever': '1977',\n",
              " 'The Bodyguard': '1992',\n",
              " 'The Dark Side of the Moon': '1973',\n",
              " 'Their Greatest Hits (1971-1975)': '1976',\n",
              " 'Thriller': '1982'}"
            ]
          },
          "metadata": {
            "tags": []
          },
          "execution_count": 7
        }
      ]
    },
    {
      "cell_type": "markdown",
      "metadata": {
        "id": "XqYyrFGubHRf"
      },
      "source": [
        "In summary, like a list, a dictionary holds a sequence of elements. Each element is represented by a key and its corresponding value. Dictionaries are created with two curly braces containing keys and values separated by a colon. For every key, there can only be one single value, however,  multiple keys can hold the same value. Keys can only be strings, numbers, or tuples, but values can be any data type.\n"
      ]
    },
    {
      "cell_type": "markdown",
      "metadata": {
        "id": "R8Zirvn3bHRf"
      },
      "source": [
        "It is helpful to visualize the dictionary as a table, as in the following image. The first column represents the keys, the second column represents the values.\n"
      ]
    },
    {
      "cell_type": "markdown",
      "metadata": {
        "id": "ijqzJZ6RbHRf"
      },
      "source": [
        "<img src=\"https://cf-courses-data.s3.us.cloud-object-storage.appdomain.cloud/IBMDeveloperSkillsNetwork-PY0101EN-SkillsNetwork/labs/Module%202/images/DictsStructure.png\" width=\"650\" />\n"
      ]
    },
    {
      "cell_type": "markdown",
      "metadata": {
        "id": "3bUj5mtlbHRg"
      },
      "source": [
        "<h3 id=\"key\">Keys</h3>\n"
      ]
    },
    {
      "cell_type": "markdown",
      "metadata": {
        "id": "oI0dmBWfbHRg"
      },
      "source": [
        "You can retrieve the values based on the names:\n"
      ]
    },
    {
      "cell_type": "code",
      "metadata": {
        "jupyter": {
          "outputs_hidden": false
        },
        "colab": {
          "base_uri": "https://localhost:8080/",
          "height": 35
        },
        "id": "JLsNDJuhbHRg",
        "outputId": "1d5c2729-2334-4131-f077-7e21cae56b07"
      },
      "source": [
        "# Get value by keys\n",
        "\n",
        "release_year_dict['Thriller'] "
      ],
      "execution_count": 8,
      "outputs": [
        {
          "output_type": "execute_result",
          "data": {
            "application/vnd.google.colaboratory.intrinsic+json": {
              "type": "string"
            },
            "text/plain": [
              "'1982'"
            ]
          },
          "metadata": {
            "tags": []
          },
          "execution_count": 8
        }
      ]
    },
    {
      "cell_type": "markdown",
      "metadata": {
        "id": "vVj16uK0bHRg"
      },
      "source": [
        "This corresponds to: \n"
      ]
    },
    {
      "cell_type": "markdown",
      "metadata": {
        "id": "ai2vvchubHRh"
      },
      "source": [
        "<img src=\"https://cf-courses-data.s3.us.cloud-object-storage.appdomain.cloud/IBMDeveloperSkillsNetwork-PY0101EN-SkillsNetwork/labs/Module%202/images/DictsKeyOne.png\" width=\"500\" />\n"
      ]
    },
    {
      "cell_type": "markdown",
      "metadata": {
        "id": "MnpX4S7dbHRh"
      },
      "source": [
        "Similarly for <b>The Bodyguard</b>\n"
      ]
    },
    {
      "cell_type": "code",
      "metadata": {
        "jupyter": {
          "outputs_hidden": false
        },
        "colab": {
          "base_uri": "https://localhost:8080/",
          "height": 35
        },
        "id": "XF9xitMtbHRh",
        "outputId": "0d0067cf-5aa0-44a6-8cd5-9758e600ba0a"
      },
      "source": [
        "# Get value by key\n",
        "\n",
        "release_year_dict['The Bodyguard'] "
      ],
      "execution_count": 9,
      "outputs": [
        {
          "output_type": "execute_result",
          "data": {
            "application/vnd.google.colaboratory.intrinsic+json": {
              "type": "string"
            },
            "text/plain": [
              "'1992'"
            ]
          },
          "metadata": {
            "tags": []
          },
          "execution_count": 9
        }
      ]
    },
    {
      "cell_type": "markdown",
      "metadata": {
        "id": "7JObq8l-bHRi"
      },
      "source": [
        "<img src=\"https://cf-courses-data.s3.us.cloud-object-storage.appdomain.cloud/IBMDeveloperSkillsNetwork-PY0101EN-SkillsNetwork/labs/Module%202/images/DictsKeyTwo.png\" width=\"500\" />\n"
      ]
    },
    {
      "cell_type": "markdown",
      "metadata": {
        "id": "yhtBw04mbHRi"
      },
      "source": [
        "Now let us retrieve the keys of the dictionary using the method <code>keys()</code>: \n",
        "You will be getting output as a list of keys\n"
      ]
    },
    {
      "cell_type": "code",
      "metadata": {
        "jupyter": {
          "outputs_hidden": false
        },
        "colab": {
          "base_uri": "https://localhost:8080/"
        },
        "id": "WdPmI5WDbHRi",
        "outputId": "952a5f42-6caf-4b8f-e160-b1cade7c494b"
      },
      "source": [
        "# Get all the keys in dictionary\n",
        "\n",
        "release_year_dict.keys() "
      ],
      "execution_count": 11,
      "outputs": [
        {
          "output_type": "execute_result",
          "data": {
            "text/plain": [
              "dict_keys(['Thriller', 'Back in Black', 'The Dark Side of the Moon', 'The Bodyguard', 'Bat Out of Hell', 'Their Greatest Hits (1971-1975)', 'Saturday Night Fever', 'Rumours'])"
            ]
          },
          "metadata": {
            "tags": []
          },
          "execution_count": 11
        }
      ]
    },
    {
      "cell_type": "markdown",
      "metadata": {
        "id": "R6H1NxDvbHRi"
      },
      "source": [
        "You can retrieve the values using the method  <code>values()</code>:\n"
      ]
    },
    {
      "cell_type": "code",
      "metadata": {
        "jupyter": {
          "outputs_hidden": false
        },
        "colab": {
          "base_uri": "https://localhost:8080/"
        },
        "id": "RbM4fKXVbHRj",
        "outputId": "0729a06f-95fb-4139-fa89-70ab63d1f6b3"
      },
      "source": [
        "# Get all the values in dictionary\n",
        "\n",
        "release_year_dict.values() "
      ],
      "execution_count": 12,
      "outputs": [
        {
          "output_type": "execute_result",
          "data": {
            "text/plain": [
              "dict_values(['1982', '1980', '1973', '1992', '1977', '1976', '1977', '1977'])"
            ]
          },
          "metadata": {
            "tags": []
          },
          "execution_count": 12
        }
      ]
    },
    {
      "cell_type": "markdown",
      "metadata": {
        "id": "b5XTA7EBbHRj"
      },
      "source": [
        "We can add an entry:\n"
      ]
    },
    {
      "cell_type": "code",
      "metadata": {
        "jupyter": {
          "outputs_hidden": false
        },
        "colab": {
          "base_uri": "https://localhost:8080/"
        },
        "id": "LdRK2v_wbHRj",
        "outputId": "11d7452e-3687-4162-ee38-36c2a839d27e"
      },
      "source": [
        "# Append value with key into dictionary\n",
        "\n",
        "release_year_dict['Graduation'] = '2007'\n",
        "release_year_dict"
      ],
      "execution_count": 13,
      "outputs": [
        {
          "output_type": "execute_result",
          "data": {
            "text/plain": [
              "{'Back in Black': '1980',\n",
              " 'Bat Out of Hell': '1977',\n",
              " 'Graduation': '2007',\n",
              " 'Rumours': '1977',\n",
              " 'Saturday Night Fever': '1977',\n",
              " 'The Bodyguard': '1992',\n",
              " 'The Dark Side of the Moon': '1973',\n",
              " 'Their Greatest Hits (1971-1975)': '1976',\n",
              " 'Thriller': '1982'}"
            ]
          },
          "metadata": {
            "tags": []
          },
          "execution_count": 13
        }
      ]
    },
    {
      "cell_type": "markdown",
      "metadata": {
        "id": "zN-pTO2KbHRk"
      },
      "source": [
        "We can delete an entry:   \n"
      ]
    },
    {
      "cell_type": "code",
      "metadata": {
        "jupyter": {
          "outputs_hidden": false
        },
        "colab": {
          "base_uri": "https://localhost:8080/"
        },
        "id": "ZIm6IAR2bHRk",
        "outputId": "5b25d4dd-a2cc-4ca4-bbdc-3cd930392ec7"
      },
      "source": [
        "# Delete entries by key\n",
        "\n",
        "del(release_year_dict['Thriller'])\n",
        "del(release_year_dict['Graduation'])\n",
        "release_year_dict"
      ],
      "execution_count": 14,
      "outputs": [
        {
          "output_type": "execute_result",
          "data": {
            "text/plain": [
              "{'Back in Black': '1980',\n",
              " 'Bat Out of Hell': '1977',\n",
              " 'Rumours': '1977',\n",
              " 'Saturday Night Fever': '1977',\n",
              " 'The Bodyguard': '1992',\n",
              " 'The Dark Side of the Moon': '1973',\n",
              " 'Their Greatest Hits (1971-1975)': '1976'}"
            ]
          },
          "metadata": {
            "tags": []
          },
          "execution_count": 14
        }
      ]
    },
    {
      "cell_type": "markdown",
      "metadata": {
        "id": "rpmOjVavbHRk"
      },
      "source": [
        " We can verify if an element is in the dictionary: \n"
      ]
    },
    {
      "cell_type": "code",
      "metadata": {
        "jupyter": {
          "outputs_hidden": false
        },
        "colab": {
          "base_uri": "https://localhost:8080/"
        },
        "id": "VcnPPf2AbHRl",
        "outputId": "8e1df0ab-b83e-417d-8b36-5526b29bbbfa"
      },
      "source": [
        "# Verify the key is in the dictionary\n",
        "\n",
        "'The Bodyguard' in release_year_dict"
      ],
      "execution_count": 15,
      "outputs": [
        {
          "output_type": "execute_result",
          "data": {
            "text/plain": [
              "True"
            ]
          },
          "metadata": {
            "tags": []
          },
          "execution_count": 15
        }
      ]
    },
    {
      "cell_type": "markdown",
      "metadata": {
        "id": "ZYKYzAeqbHRl"
      },
      "source": [
        "<hr>\n"
      ]
    },
    {
      "cell_type": "markdown",
      "metadata": {
        "id": "Mz-nYSh_bHRl"
      },
      "source": [
        "<h2 id=\"quiz\">Quiz on Dictionaries</h2>\n"
      ]
    },
    {
      "cell_type": "markdown",
      "metadata": {
        "id": "qDsxt_B8bHRm"
      },
      "source": [
        "<b>You will need this dictionary for the next two questions:</b>\n"
      ]
    },
    {
      "cell_type": "code",
      "metadata": {
        "colab": {
          "base_uri": "https://localhost:8080/"
        },
        "id": "zy9oK64jbHRm",
        "outputId": "65397d2c-1503-480c-b0e8-0f33a98cae55"
      },
      "source": [
        "# Question sample dictionary\n",
        "\n",
        "soundtrack_dic = {\"The Bodyguard\":\"1992\", \"Saturday Night Fever\":\"1977\"}\n",
        "soundtrack_dic "
      ],
      "execution_count": 16,
      "outputs": [
        {
          "output_type": "execute_result",
          "data": {
            "text/plain": [
              "{'Saturday Night Fever': '1977', 'The Bodyguard': '1992'}"
            ]
          },
          "metadata": {
            "tags": []
          },
          "execution_count": 16
        }
      ]
    },
    {
      "cell_type": "markdown",
      "metadata": {
        "id": "y6fbQ7GKbHRm"
      },
      "source": [
        "a) In the dictionary <code>soundtrack_dic</code> what are the keys ?\n"
      ]
    },
    {
      "cell_type": "code",
      "metadata": {
        "colab": {
          "base_uri": "https://localhost:8080/"
        },
        "id": "LVi0-yOSbHRn",
        "outputId": "f527a724-fe14-4600-c88c-75c851f9fc84"
      },
      "source": [
        "# Write your code below and press Shift+Enter to execute\n",
        "soundtrack_dic.keys()\n"
      ],
      "execution_count": 17,
      "outputs": [
        {
          "output_type": "execute_result",
          "data": {
            "text/plain": [
              "dict_keys(['The Bodyguard', 'Saturday Night Fever'])"
            ]
          },
          "metadata": {
            "tags": []
          },
          "execution_count": 17
        }
      ]
    },
    {
      "cell_type": "markdown",
      "metadata": {
        "id": "uCp11ckDbHRn"
      },
      "source": [
        "<details><summary>Click here for the solution</summary>\n",
        "\n",
        "```python\n",
        "soundtrack_dic.keys() # The Keys \"The Bodyguard\" and \"Saturday Night Fever\" \n",
        "\n",
        "```\n",
        "\n",
        "</details>\n"
      ]
    },
    {
      "cell_type": "markdown",
      "metadata": {
        "id": "9TRupSHObHRn"
      },
      "source": [
        "b) In the dictionary <code>soundtrack_dic</code> what are the values ?\n"
      ]
    },
    {
      "cell_type": "code",
      "metadata": {
        "colab": {
          "base_uri": "https://localhost:8080/"
        },
        "id": "BhyxxWFbbHRn",
        "outputId": "fe85b49f-fc4b-45b8-ddc3-223b4c6c07a8"
      },
      "source": [
        "# Write your code below and press Shift+Enter to execute\n",
        "soundtrack_dic.values()"
      ],
      "execution_count": 18,
      "outputs": [
        {
          "output_type": "execute_result",
          "data": {
            "text/plain": [
              "dict_values(['1992', '1977'])"
            ]
          },
          "metadata": {
            "tags": []
          },
          "execution_count": 18
        }
      ]
    },
    {
      "cell_type": "markdown",
      "metadata": {
        "id": "xZRqZ84MbHRo"
      },
      "source": [
        "<details><summary>Click here for the solution</summary>\n",
        "\n",
        "```python\n",
        "soundtrack_dic.values() # The values are \"1992\" and \"1977\"\n",
        "\n",
        "```\n",
        "\n",
        "</details>\n"
      ]
    },
    {
      "cell_type": "markdown",
      "metadata": {
        "id": "V_aQFNv4bHRo"
      },
      "source": [
        "<hr>\n"
      ]
    },
    {
      "cell_type": "markdown",
      "metadata": {
        "id": "8o7n8jUPbHRo"
      },
      "source": [
        "<b>You will need this dictionary for the following questions:</b>\n"
      ]
    },
    {
      "cell_type": "markdown",
      "metadata": {
        "id": "2KyEMrP3bHRo"
      },
      "source": [
        "The Albums <b>Back in Black</b>, <b>The Bodyguard</b> and <b>Thriller</b> have the following music recording sales in millions 50, 50 and 65 respectively:\n"
      ]
    },
    {
      "cell_type": "markdown",
      "metadata": {
        "id": "D1g8MceIbHRp"
      },
      "source": [
        "a) Create a dictionary <code>album_sales_dict</code> where the keys are the album name and the sales in millions are the values. \n"
      ]
    },
    {
      "cell_type": "code",
      "metadata": {
        "colab": {
          "base_uri": "https://localhost:8080/"
        },
        "id": "aEJ2nu1PbHRp",
        "outputId": "90deb2e4-d7ff-4dcf-e05f-f643999ec9c1"
      },
      "source": [
        "# Write your code below and press Shift+Enter to execute\n",
        "album_sales_dict = {\"Back in Black \": 50,\"The Bodygaurd\":50,\"Thriller\": 65}\n",
        "album_sales_dict\n"
      ],
      "execution_count": 19,
      "outputs": [
        {
          "output_type": "execute_result",
          "data": {
            "text/plain": [
              "{'Back in Black ': 50, 'The Bodygaurd': 50, 'Thriller': 65}"
            ]
          },
          "metadata": {
            "tags": []
          },
          "execution_count": 19
        }
      ]
    },
    {
      "cell_type": "markdown",
      "metadata": {
        "id": "giux0P5ObHRp"
      },
      "source": [
        "<details><summary>Click here for the solution</summary>\n",
        "\n",
        "```python\n",
        "album_sales_dict = {\"The Bodyguard\":50, \"Back in Black\":50, \"Thriller\":65}\n",
        "\n",
        "```\n",
        "\n",
        "</details>\n"
      ]
    },
    {
      "cell_type": "markdown",
      "metadata": {
        "id": "UqN2kVaHbHRp"
      },
      "source": [
        "b) Use the dictionary to find the total sales of <b>Thriller</b>:\n"
      ]
    },
    {
      "cell_type": "code",
      "metadata": {
        "jupyter": {
          "outputs_hidden": false
        },
        "colab": {
          "base_uri": "https://localhost:8080/"
        },
        "id": "M1Xj4hPCbHRq",
        "outputId": "910ef5d3-f528-46b0-99a3-6a1352161bfd"
      },
      "source": [
        "# Write your code below and press Shift+Enter to execute\n",
        "\n",
        "album_sales_dict[\"Thriller\"]"
      ],
      "execution_count": 20,
      "outputs": [
        {
          "output_type": "execute_result",
          "data": {
            "text/plain": [
              "65"
            ]
          },
          "metadata": {
            "tags": []
          },
          "execution_count": 20
        }
      ]
    },
    {
      "cell_type": "markdown",
      "metadata": {
        "id": "B93sVlDqbHRq"
      },
      "source": [
        "<details><summary>Click here for the solution</summary>\n",
        "\n",
        "```python\n",
        "album_sales_dict[\"Thriller\"]\n",
        "\n",
        "```\n",
        "\n",
        "</details>\n"
      ]
    },
    {
      "cell_type": "markdown",
      "metadata": {
        "id": "VLDYRkfYbHRq"
      },
      "source": [
        "c) Find the names of the albums from the dictionary using the method <code>keys()</code>:\n"
      ]
    },
    {
      "cell_type": "code",
      "metadata": {
        "jupyter": {
          "outputs_hidden": false
        },
        "colab": {
          "base_uri": "https://localhost:8080/"
        },
        "id": "bijVu7hGbHRq",
        "outputId": "e13d0144-4415-4d9a-a881-d034a2643b7f"
      },
      "source": [
        "# Write your code below and press Shift+Enter to execute\n",
        "album_sales_dict.keys()"
      ],
      "execution_count": 21,
      "outputs": [
        {
          "output_type": "execute_result",
          "data": {
            "text/plain": [
              "dict_keys(['Back in Black ', 'The Bodygaurd', 'Thriller'])"
            ]
          },
          "metadata": {
            "tags": []
          },
          "execution_count": 21
        }
      ]
    },
    {
      "cell_type": "markdown",
      "metadata": {
        "id": "Him6IDfsbHRr"
      },
      "source": [
        "<details><summary>Click here for the solution</summary>\n",
        "\n",
        "```python\n",
        "album_sales_dict.keys()\n",
        "\n",
        "```\n",
        "\n",
        "</details>\n"
      ]
    },
    {
      "cell_type": "markdown",
      "metadata": {
        "id": "ZcSJpWDvbHRr"
      },
      "source": [
        "d) Find the values of the recording sales from the dictionary using the method <code>values</code>:\n"
      ]
    },
    {
      "cell_type": "code",
      "metadata": {
        "jupyter": {
          "outputs_hidden": false
        },
        "colab": {
          "base_uri": "https://localhost:8080/"
        },
        "id": "9GoDZBZrbHRr",
        "outputId": "cfedb260-28b7-4bee-e5da-5e5d204e3a12"
      },
      "source": [
        "# Write your code below and press Shift+Enter to execute\n",
        "album_sales_dict.values()\n"
      ],
      "execution_count": 23,
      "outputs": [
        {
          "output_type": "execute_result",
          "data": {
            "text/plain": [
              "dict_values([50, 50, 65])"
            ]
          },
          "metadata": {
            "tags": []
          },
          "execution_count": 23
        }
      ]
    },
    {
      "cell_type": "markdown",
      "metadata": {
        "id": "7PRlxDw4bHRr"
      },
      "source": [
        "<details><summary>Click here for the solution</summary>\n",
        "\n",
        "```python\n",
        "album_sales_dict.values()\n",
        "\n",
        "```\n",
        "\n",
        "</details>\n"
      ]
    },
    {
      "cell_type": "markdown",
      "metadata": {
        "id": "0QHk09L6bHRs"
      },
      "source": [
        "<hr>\n",
        "<h2>The last exercise!</h2>\n",
        "<p>Congratulations, you have completed your first lesson and hands-on lab in Python. However, there is one more thing you need to do. The Data Science community encourages sharing work. The best way to share and showcase your work is to share it on GitHub. By sharing your notebook on GitHub you are not only building your reputation with fellow data scientists, but you can also show it off when applying for a job. Even though this was your first piece of work, it is never too early to start building good habits. So, please read and follow <a href=\"https://cognitiveclass.ai/blog/data-scientists-stand-out-by-sharing-your-notebooks/\" target=\"_blank\">this article</a> to learn how to share your work.\n",
        "<hr>\n"
      ]
    },
    {
      "cell_type": "markdown",
      "metadata": {
        "id": "_cBusjuYbHRs"
      },
      "source": [
        "## Author\n",
        "\n",
        "<a href=\"https://www.linkedin.com/in/joseph-s-50398b136/\" target=\"_blank\">Joseph Santarcangelo</a>\n",
        "\n",
        "## Other contributors\n",
        "\n",
        "<a href=\"www.linkedin.com/in/jiahui-mavis-zhou-a4537814a\">Mavis Zhou</a>\n",
        "\n",
        "## Change Log\n",
        "\n",
        "| Date (YYYY-MM-DD) | Version | Changed By    | Change Description                                                  |\n",
        "| ----------------- | ------- | ------------- | ------------------------------------------------------------------- |\n",
        "| 2020-09-09        | 2.1     | Malika Singla | Updated the variable soundtrack_dict to soundtrack_dic in Questions |\n",
        "| 2020-08-26        | 2.0     | Lavanya       | Moved lab to course repo in GitLab                                  |\n",
        "|                   |         |               |                                                                     |\n",
        "|                   |         |               |                                                                     |\n",
        "\n",
        "## <h3 align=\"center\"> © IBM Corporation 2020. All rights reserved. <h3/>\n"
      ]
    }
  ]
}